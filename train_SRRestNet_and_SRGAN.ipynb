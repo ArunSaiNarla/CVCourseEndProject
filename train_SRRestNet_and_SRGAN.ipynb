{
  "nbformat": 4,
  "nbformat_minor": 0,
  "metadata": {
    "colab": {
      "provenance": []
    },
    "kernelspec": {
      "name": "python3",
      "display_name": "Python 3"
    },
    "language_info": {
      "name": "python"
    }
  },
  "cells": [
    {
      "cell_type": "code",
      "execution_count": null,
      "metadata": {
        "id": "Ow0BVx-oM24n"
      },
      "outputs": [],
      "source": [
        "# Installing TensorFlow library for the project\n",
        "\n",
        "!pip install tensorflow\n",
        "!rm -rf ./*\n",
        "!git clone https://github.com/Arunsai125/MajorProj.git\n",
        "!mv MajorProj/* ./"
      ]
    },
    {
      "cell_type": "code",
      "source": [
        "# Importation of the Datasets and Libraries\n",
        "\n",
        "import os\n",
        "import glob\n",
        "import numpy as np\n",
        "from PIL import Image, ImageOps\n",
        "import tensorflow as tf\n",
        "import matplotlib.pyplot as plt\n",
        "\n",
        "from datasets.div2k.parameters import Div2kParameters\n",
        "from models.srgan_generator import build_srresnet\n",
        "from models.pretrained import pretrained_models\n",
        "from utils.prediction import get_sr_image\n",
        "from utils.config import config"
      ],
      "metadata": {
        "id": "rf-HVt4EM5UX"
      },
      "execution_count": null,
      "outputs": []
    },
    {
      "cell_type": "code",
      "source": [
        "# Obtaining the Path\n",
        "\n",
        "dataset_key = \"bicubic_x4\"\n",
        "\n",
        "data_path = config.get(\"data_path\", \"\")\n",
        "\n",
        "div2k_folder = os.path.abspath(os.path.join(data_path, \"div2k\"))\n",
        "\n",
        "dataset_parameters = Div2kParameters(dataset_key, save_data_directory=div2k_folder)"
      ],
      "metadata": {
        "id": "_SFhS-CpM7cB"
      },
      "execution_count": null,
      "outputs": []
    },
    {
      "cell_type": "code",
      "source": [
        "def load_image(path):\n",
        "    img = Image.open(path)\n",
        "\n",
        "    was_grayscale = len(img.getbands()) == 1\n",
        "\n",
        "    if was_grayscale or len(img.getbands()) == 4:\n",
        "        img = img.convert('RGB')\n",
        "\n",
        "    return was_grayscale, np.array(img)"
      ],
      "metadata": {
        "id": "E73oVHiFM-M2"
      },
      "execution_count": null,
      "outputs": []
    },
    {
      "cell_type": "code",
      "source": [
        "# Defining the Model name\n",
        "\n",
        "model_name = \"srresnet\"\n",
        "model_key = f\"{model_name}_{dataset_key}\""
      ],
      "metadata": {
        "id": "Z6XugIZANBLT"
      },
      "execution_count": null,
      "outputs": []
    },
    {
      "cell_type": "code",
      "source": [
        "# Loading the weights\n",
        "\n",
        "from tensorflow.keras.models import load_model\n",
        "\n",
        "# Assuming build_srresnet is the function to create the model architecture\n",
        "model = build_srresnet(scale=dataset_parameters.scale)\n",
        "\n",
        "os.makedirs(weights_directory, exist_ok=True)\n",
        "weights_file = f'{weights_directory}/generator.h5'\n",
        "\n",
        "if os.path.exists(weights_file):\n",
        "    try:\n",
        "        model.load_weights(weights_file, by_name=True)\n",
        "        print(\"Weights loaded successfully.\")\n",
        "    except Exception as e:\n",
        "        print(f\"Error loading weights: {e}\")\n",
        "else:\n",
        "    print(\"Weights file not found.\")"
      ],
      "metadata": {
        "id": "2yzbGpBKNDju"
      },
      "execution_count": null,
      "outputs": []
    },
    {
      "cell_type": "code",
      "source": [
        "# Model Building\n",
        "\n",
        "from models.srgan_generator import build_srresnet\n",
        "\n",
        "# Build the SRResNet model\n",
        "model = build_srresnet(scale=dataset_parameters.scale)\n",
        "\n",
        "# Ensure the directory for weights exists\n",
        "weights_directory = '/content/weights/srgan_bicubic_x4'\n",
        "os.makedirs(weights_directory, exist_ok=True)\n",
        "\n",
        "# Specify the weights file with the correct path\n",
        "weights_file = f'{weights_directory}/generator.h5'\n",
        "\n",
        "# Check if the weights file exists before attempting to load\n",
        "if os.path.exists(weights_file):\n",
        "    try:\n",
        "        # Load only the weights into the model, ignoring any potential layer count mismatch\n",
        "        model.load_weights(weights_file, by_name=True)\n",
        "        print(\"Weights loaded successfully.\")\n",
        "    except Exception as e:\n",
        "        print(f\"Error loading weights: {e}\")\n",
        "else:\n",
        "    print(f\"Error: The weights file '{weights_file}' does not exist.\")\n"
      ],
      "metadata": {
        "id": "tHp71HbXNFok"
      },
      "execution_count": null,
      "outputs": []
    },
    {
      "cell_type": "code",
      "source": [
        "# Obtaining Results Path\n",
        "\n",
        "results_path = f\"output/{model_key}/\"\n",
        "os.makedirs(results_path, exist_ok=True)"
      ],
      "metadata": {
        "id": "UymurdbqNKjz"
      },
      "execution_count": null,
      "outputs": []
    },
    {
      "cell_type": "code",
      "source": [
        "# Splitting them\n",
        "\n",
        "image_paths = glob.glob(\"input/*\")\n",
        "\n",
        "for image_path in image_paths:\n",
        "    print(image_path)\n",
        "    was_grayscale, lr = load_image(image_path)\n",
        "\n",
        "    sr = get_sr_image(model, lr)\n",
        "\n",
        "    if was_grayscale:\n",
        "        sr = ImageOps.grayscale(sr)\n",
        "\n",
        "    image_name = image_path.split(\"/\")[-1]\n",
        "    sr.save(f\"{results_path}{image_name}\" )"
      ],
      "metadata": {
        "id": "o3zmmAwCNM3u"
      },
      "execution_count": null,
      "outputs": []
    },
    {
      "cell_type": "code",
      "source": [
        "# Zipping the output Images\n",
        "\n",
        "!zip -r images.zip output"
      ],
      "metadata": {
        "id": "Oz96RH2rNM96"
      },
      "execution_count": null,
      "outputs": []
    },
    {
      "cell_type": "code",
      "source": [
        "from math import log10, sqrt\n",
        "\n",
        "import cv2\n",
        "from skimage.metrics import structural_similarity as ssim1\n",
        "# from skimage.metrics import mean_squared_error as mse\n",
        "\n",
        "\n",
        "# Calculating PSNR of the Images\n",
        "\n",
        "def PSNR(original, compressed):\n",
        "\n",
        "    mse = np.mean((original - compressed) ** 2)\n",
        "\n",
        "    if(mse == 0):  # MSE is zero means no noise is present in the signal .\n",
        "\n",
        "                  # Therefore PSNR have no importance.\n",
        "\n",
        "        return 100\n",
        "\n",
        "    max_pixel = 255.0\n",
        "\n",
        "    psnr = 20 * log10(max_pixel / sqrt(mse))\n",
        "\n",
        "    return psnr\n",
        "\n",
        "# Calculating MSE of the Images\n",
        "\n",
        "def mse(original, compressed):\n",
        "    m = np.mean((original - compressed) ** 2)*0.01\n",
        "    return m\n",
        "\n",
        "# Calculating SSIM of the Images\n",
        "\n",
        "def ssim(img1, img2):\n",
        "  return ssim1(img1,img2,data_range=255,multichannel=True)\n",
        "\n",
        "cols = 3\n",
        "if model_name == \"srgan\":\n",
        "  cols = 3\n",
        "  print(\"PSNR-HR  PSNR-SRGAN  MSE-SRGAN    SSIM-SRGAN\")\n",
        "else:\n",
        "  cols = 4\n",
        "  print(\"PSNR-HR PSNR-SRGAN  PSNR-SRRESNET  MSE-SRGAN  MSE-SRRESNET   SSIM-SRGAN  SSIM-SRRESNET\")\n",
        "\n",
        "num_img=len(os.listdir(\"input\"))\n",
        "for i in range(num_img):\n",
        "  fig, axes = plt.subplots(nrows=1, ncols=cols, figsize=(15,15))\n",
        "  original = cv2.imread(f\"input/{i}.png\")\n",
        "\n",
        "  resized = cv2.resize(original, (384, 384))\n",
        "  axes[0].imshow(resized)\n",
        "  hr_normal = cv2.imread(f\"HR/{i}.png\", 1)\n",
        "  axes[2].imshow(hr_normal)\n",
        "  hr_gan = cv2.imread(f\"output/srgan_bicubic_x4/{i}.png\", 1)\n",
        "  axes[1].imshow(hr_gan)\n",
        "\n",
        "  if model_name == \"srgan\":\n",
        "    print(f\"{PSNR(hr_normal,hr_normal):.3f}    {PSNR(hr_normal, hr_gan):.3f}       {mse(hr_normal,hr_gan):.3f}        {ssim(hr_normal,hr_gan):.3f} \")\n",
        "  else:\n",
        "    hr_resnet = cv2.imread(f\"output/srresnet_bicubic_x4/{i}.png\", 1)\n",
        "    axes[3].imshow(hr_resnet)\n",
        "    print(f\"{PSNR(hr_normal,hr_normal):.3f}    {PSNR(hr_normal, hr_gan):.3f}        {PSNR(hr_normal, hr_resnet):.3f}     {mse(hr_normal,hr_gan):.3f}       {mse(hr_normal,hr_resnet):.3f}            {ssim(hr_normal,hr_gan):.3f}         {ssim(hr_normal,hr_resnet):.3f}\")"
      ],
      "metadata": {
        "id": "si6XDGY_Nnc3"
      },
      "execution_count": null,
      "outputs": []
    }
  ]
}